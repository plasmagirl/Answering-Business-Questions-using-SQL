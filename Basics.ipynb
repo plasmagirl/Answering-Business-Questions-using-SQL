{
 "cells": [
  {
   "cell_type": "markdown",
   "metadata": {},
   "source": [
    "   # Answering Business Questions using SQL"
   ]
  },
  {
   "cell_type": "markdown",
   "metadata": {},
   "source": [
    "## Introduction\n",
    "In this project, we practice answering questions using SQLite and python. We are working with a database called Chinook.db that contains information about a fictional digital music shop. The database contains eleven tables with information about its employees, albums, artists, customers as well as customer purchases.\n",
    "\n",
    "We will start by importing all the relevant modules and writing functions to run queries using context managers. This prevents any errors that may be caused by not properly closing connections to the database."
   ]
  },
  {
   "cell_type": "code",
   "execution_count": 1,
   "metadata": {},
   "outputs": [],
   "source": [
    "#!cp chinook-unmodified.db chinook.db"
   ]
  },
  {
   "cell_type": "code",
   "execution_count": 2,
   "metadata": {},
   "outputs": [
    {
     "name": "stdout",
     "output_type": "stream",
     "text": [
      "              name   type\n",
      "0            album  table\n",
      "1           artist  table\n",
      "2         customer  table\n",
      "3         employee  table\n",
      "4            genre  table\n",
      "5          invoice  table\n",
      "6     invoice_line  table\n",
      "7       media_type  table\n",
      "8         playlist  table\n",
      "9   playlist_track  table\n",
      "10           track  table\n"
     ]
    }
   ],
   "source": [
    "import sqlite3\n",
    "import pandas as pd\n",
    "import numpy as np\n",
    "import matplotlib.pyplot as plt\n",
    "import seaborn as sns\n",
    "from IPython.display import display\n",
    "%matplotlib inline\n",
    "\n",
    "db = 'chinook.db'\n",
    "#this function returns the query in a dataframe\n",
    "def run_query(q):\n",
    "    with sqlite3.connect(db) as conn:\n",
    "        return pd.read_sql(q,conn)\n",
    "\n",
    "#this function is for executing queries that do not involve a table - e.g. CREATE VIEW\n",
    "def run_command(c):\n",
    "    with sqlite3.connect(db) as conn:\n",
    "        conn.isolation_level = None\n",
    "        return conn.execute(c)\n",
    "\n",
    "#this function returns a list of all tables and views in the database\n",
    "def show_tables():\n",
    "    q = '''SELECT name, type \n",
    "        FROM sqlite_master \n",
    "        WHERE type IN (\"table\", \"view\")'''\n",
    "    return run_query(q)\n",
    "\n",
    "print(show_tables())  "
   ]
  },
  {
   "cell_type": "markdown",
   "metadata": {},
   "source": [
    "## Selecting new albums to purchase\n",
    "The Chinook record store has just signed a deal with a new record label, and our goal is to select the first three albums that will be added to the store, from a list of four.\n",
    "\n",
    "| Name | Genre | \n",
    "| ----- | ------- | \n",
    "| Regal | Hip-Hop |\n",
    "|Red Tone|Punk|\n",
    "|Meteor and the Girls|Pop|\n",
    "|Slim Jim Bites|Blues|\n",
    "\n",
    "We will write a query to find out what genres of music sell the most tracks in the US and use that information to decide which 3 artists should be selected."
   ]
  },
  {
   "cell_type": "code",
   "execution_count": 3,
   "metadata": {},
   "outputs": [
    {
     "data": {
      "text/html": [
       "<div>\n",
       "<style scoped>\n",
       "    .dataframe tbody tr th:only-of-type {\n",
       "        vertical-align: middle;\n",
       "    }\n",
       "\n",
       "    .dataframe tbody tr th {\n",
       "        vertical-align: top;\n",
       "    }\n",
       "\n",
       "    .dataframe thead th {\n",
       "        text-align: right;\n",
       "    }\n",
       "</style>\n",
       "<table border=\"1\" class=\"dataframe\">\n",
       "  <thead>\n",
       "    <tr style=\"text-align: right;\">\n",
       "      <th></th>\n",
       "      <th>genre_name</th>\n",
       "      <th>tracks_sold</th>\n",
       "      <th>percent_sold</th>\n",
       "    </tr>\n",
       "  </thead>\n",
       "  <tbody>\n",
       "    <tr>\n",
       "      <th>0</th>\n",
       "      <td>Rock</td>\n",
       "      <td>561</td>\n",
       "      <td>0.533777</td>\n",
       "    </tr>\n",
       "    <tr>\n",
       "      <th>1</th>\n",
       "      <td>Alternative &amp; Punk</td>\n",
       "      <td>130</td>\n",
       "      <td>0.123692</td>\n",
       "    </tr>\n",
       "    <tr>\n",
       "      <th>2</th>\n",
       "      <td>Metal</td>\n",
       "      <td>124</td>\n",
       "      <td>0.117983</td>\n",
       "    </tr>\n",
       "    <tr>\n",
       "      <th>3</th>\n",
       "      <td>R&amp;B/Soul</td>\n",
       "      <td>53</td>\n",
       "      <td>0.050428</td>\n",
       "    </tr>\n",
       "    <tr>\n",
       "      <th>4</th>\n",
       "      <td>Blues</td>\n",
       "      <td>36</td>\n",
       "      <td>0.034253</td>\n",
       "    </tr>\n",
       "    <tr>\n",
       "      <th>5</th>\n",
       "      <td>Alternative</td>\n",
       "      <td>35</td>\n",
       "      <td>0.033302</td>\n",
       "    </tr>\n",
       "    <tr>\n",
       "      <th>6</th>\n",
       "      <td>Pop</td>\n",
       "      <td>22</td>\n",
       "      <td>0.020932</td>\n",
       "    </tr>\n",
       "    <tr>\n",
       "      <th>7</th>\n",
       "      <td>Latin</td>\n",
       "      <td>22</td>\n",
       "      <td>0.020932</td>\n",
       "    </tr>\n",
       "    <tr>\n",
       "      <th>8</th>\n",
       "      <td>Hip Hop/Rap</td>\n",
       "      <td>20</td>\n",
       "      <td>0.019029</td>\n",
       "    </tr>\n",
       "    <tr>\n",
       "      <th>9</th>\n",
       "      <td>Jazz</td>\n",
       "      <td>14</td>\n",
       "      <td>0.013321</td>\n",
       "    </tr>\n",
       "  </tbody>\n",
       "</table>\n",
       "</div>"
      ],
      "text/plain": [
       "           genre_name  tracks_sold  percent_sold\n",
       "0                Rock          561      0.533777\n",
       "1  Alternative & Punk          130      0.123692\n",
       "2               Metal          124      0.117983\n",
       "3            R&B/Soul           53      0.050428\n",
       "4               Blues           36      0.034253\n",
       "5         Alternative           35      0.033302\n",
       "6                 Pop           22      0.020932\n",
       "7               Latin           22      0.020932\n",
       "8         Hip Hop/Rap           20      0.019029\n",
       "9                Jazz           14      0.013321"
      ]
     },
     "execution_count": 3,
     "metadata": {},
     "output_type": "execute_result"
    }
   ],
   "source": [
    "albums_to_purchase = '''WITH country_usa AS \n",
    "                        (\n",
    "                        SELECT il.*\n",
    "                        FROM invoice_line il\n",
    "                        INNER JOIN invoice i ON i.invoice_id = il.invoice_id\n",
    "                        INNER JOIN customer c ON c.customer_id = i.customer_id\n",
    "                        WHERE c.country = \"USA\"\n",
    "                        )\n",
    "                        \n",
    "       SELECT \n",
    "           g.name genre_name,  \n",
    "           COUNT(c.invoice_line_id) tracks_sold, \n",
    "           (CAST(COUNT(c.invoice_line_id) AS Float)/\n",
    "           (SELECT COUNT(*) FROM country_usa)) percent_sold\n",
    "       FROM country_usa c\n",
    "       INNER JOIN track t ON t.track_id = c.track_id\n",
    "       INNER JOIN genre g ON g.genre_id = t.genre_id\n",
    "       GROUP BY genre_name\n",
    "       ORDER BY 2 DESC\n",
    "       LIMIT 10;'''\n",
    "\n",
    "run_query(albums_to_purchase)"
   ]
  },
  {
   "cell_type": "code",
   "execution_count": 4,
   "metadata": {},
   "outputs": [
    {
     "data": {
      "text/plain": [
       "Text(0, 0.5, '')"
      ]
     },
     "execution_count": 4,
     "metadata": {},
     "output_type": "execute_result"
    },
    {
     "data": {
      "image/png": "[encoded data removed]",
      "text/plain": [
       "<Figure size 432x432 with 1 Axes>"
      ]
     },
     "metadata": {
      "needs_background": "light"
     },
     "output_type": "display_data"
    }
   ],
   "source": [
    "df = run_query(albums_to_purchase)\n",
    "df = df.set_index('genre_name', drop=True)\n",
    "df['percent_sold'] = df['percent_sold']*100\n",
    "df['percent_sold'].plot.barh(figsize=(6,6), title='Top Selling Genres in the USA')\n",
    "plt.ylabel('') #to supress y-axis label"
   ]
  },
  {
   "cell_type": "markdown",
   "metadata": {
    "collapsed": true
   },
   "source": [
    "Based on previous sales data, Chinook record store is recommended to buy albums from Red Tone (Punk), Slim Jim Bites (Blues) and Meteor and the Girls (Pop). Although, it would be ideal to find a records from the Rock genre which accounts for more than 53% of the total sales."
   ]
  },
  {
   "cell_type": "markdown",
   "metadata": {},
   "source": [
    "## Analyzing Employee Sales Performance\n",
    "Each customer for the Chinook store gets assigned to a sales support agent within the company when they first make a purchase. Our next goal is to analyze the purchases of customers belonging to each employee to see if any sales support agent is performing either better or worse than the others."
   ]
  },
  {
   "cell_type": "code",
   "execution_count": 5,
   "metadata": {},
   "outputs": [
    {
     "data": {
      "text/html": [
       "<div>\n",
       "<style scoped>\n",
       "    .dataframe tbody tr th:only-of-type {\n",
       "        vertical-align: middle;\n",
       "    }\n",
       "\n",
       "    .dataframe tbody tr th {\n",
       "        vertical-align: top;\n",
       "    }\n",
       "\n",
       "    .dataframe thead th {\n",
       "        text-align: right;\n",
       "    }\n",
       "</style>\n",
       "<table border=\"1\" class=\"dataframe\">\n",
       "  <thead>\n",
       "    <tr style=\"text-align: right;\">\n",
       "      <th></th>\n",
       "      <th>employee_id</th>\n",
       "      <th>employee_name</th>\n",
       "      <th>title</th>\n",
       "      <th>hire_date</th>\n",
       "      <th>total</th>\n",
       "    </tr>\n",
       "  </thead>\n",
       "  <tbody>\n",
       "    <tr>\n",
       "      <th>0</th>\n",
       "      <td>3</td>\n",
       "      <td>Jane Peacock</td>\n",
       "      <td>Sales Support Agent</td>\n",
       "      <td>2017-04-01 00:00:00</td>\n",
       "      <td>1731.51</td>\n",
       "    </tr>\n",
       "    <tr>\n",
       "      <th>1</th>\n",
       "      <td>4</td>\n",
       "      <td>Margaret Park</td>\n",
       "      <td>Sales Support Agent</td>\n",
       "      <td>2017-05-03 00:00:00</td>\n",
       "      <td>1584.00</td>\n",
       "    </tr>\n",
       "    <tr>\n",
       "      <th>2</th>\n",
       "      <td>5</td>\n",
       "      <td>Steve Johnson</td>\n",
       "      <td>Sales Support Agent</td>\n",
       "      <td>2017-10-17 00:00:00</td>\n",
       "      <td>1393.92</td>\n",
       "    </tr>\n",
       "  </tbody>\n",
       "</table>\n",
       "</div>"
      ],
      "text/plain": [
       "   employee_id  employee_name                title            hire_date  \\\n",
       "0            3   Jane Peacock  Sales Support Agent  2017-04-01 00:00:00   \n",
       "1            4  Margaret Park  Sales Support Agent  2017-05-03 00:00:00   \n",
       "2            5  Steve Johnson  Sales Support Agent  2017-10-17 00:00:00   \n",
       "\n",
       "     total  \n",
       "0  1731.51  \n",
       "1  1584.00  \n",
       "2  1393.92  "
      ]
     },
     "execution_count": 5,
     "metadata": {},
     "output_type": "execute_result"
    }
   ],
   "source": [
    "q = '''SELECT e.employee_id, \n",
    "             (e.first_name||\" \"||e.last_name) employee_name, \n",
    "              e.title, e.hire_date, SUM(i.total) total\n",
    "       FROM employee e\n",
    "       INNER JOIN customer c ON c.support_rep_id = e.employee_id\n",
    "       INNER JOIN invoice i ON i.customer_id = c.customer_id\n",
    "       GROUP BY c.support_rep_id'''\n",
    "run_query(q)"
   ]
  },
  {
   "cell_type": "code",
   "execution_count": 6,
   "metadata": {},
   "outputs": [
    {
     "data": {
      "text/plain": [
       "Text(0, 0.5, '')"
      ]
     },
     "execution_count": 6,
     "metadata": {},
     "output_type": "execute_result"
    },
    {
     "data": {
      "image/png": "[encoded data removed]",
      "text/plain": [
       "<Figure size 576x576 with 1 Axes>"
      ]
     },
     "metadata": {
      "needs_background": "light"
     },
     "output_type": "display_data"
    }
   ],
   "source": [
    "df = run_query(q)\n",
    "df = df.set_index('employee_name', drop=True)\n",
    "df['total'].plot.barh(figsize=(8,8), title='Total Sales by Each Employee')\n",
    "plt.ylabel('')"
   ]
  },
  {
   "cell_type": "markdown",
   "metadata": {},
   "source": [
    "Jane Peacock has contributed to 20% more sales compared to the lowest earning employee. But this difference in sales can be attributed to the difference in hiring dates."
   ]
  },
  {
   "cell_type": "markdown",
   "metadata": {},
   "source": [
    "## Analyzing sales by country\n",
    "Our next goal is to collect data on purchases from different countries. When a country has only 1 customer, collect them into 'Other' group. The result should contain the following columns - total number of customers, total value of sales, average sales per customer and average order value. Sort the results by total sales in descending and put 'Others' at the bottom."
   ]
  },
  {
   "cell_type": "code",
   "execution_count": 7,
   "metadata": {},
   "outputs": [
    {
     "data": {
      "text/html": [
       "<div>\n",
       "<style scoped>\n",
       "    .dataframe tbody tr th:only-of-type {\n",
       "        vertical-align: middle;\n",
       "    }\n",
       "\n",
       "    .dataframe tbody tr th {\n",
       "        vertical-align: top;\n",
       "    }\n",
       "\n",
       "    .dataframe thead th {\n",
       "        text-align: right;\n",
       "    }\n",
       "</style>\n",
       "<table border=\"1\" class=\"dataframe\">\n",
       "  <thead>\n",
       "    <tr style=\"text-align: right;\">\n",
       "      <th></th>\n",
       "      <th>country</th>\n",
       "      <th>total_customers</th>\n",
       "      <th>total_sales</th>\n",
       "      <th>avg_sales_per_customer</th>\n",
       "      <th>avg_order_value</th>\n",
       "    </tr>\n",
       "  </thead>\n",
       "  <tbody>\n",
       "    <tr>\n",
       "      <th>0</th>\n",
       "      <td>USA</td>\n",
       "      <td>13</td>\n",
       "      <td>1040.49</td>\n",
       "      <td>80.037692</td>\n",
       "      <td>7.942672</td>\n",
       "    </tr>\n",
       "    <tr>\n",
       "      <th>1</th>\n",
       "      <td>Canada</td>\n",
       "      <td>8</td>\n",
       "      <td>535.59</td>\n",
       "      <td>66.948750</td>\n",
       "      <td>7.047237</td>\n",
       "    </tr>\n",
       "    <tr>\n",
       "      <th>2</th>\n",
       "      <td>Brazil</td>\n",
       "      <td>5</td>\n",
       "      <td>427.68</td>\n",
       "      <td>85.536000</td>\n",
       "      <td>7.011148</td>\n",
       "    </tr>\n",
       "    <tr>\n",
       "      <th>3</th>\n",
       "      <td>France</td>\n",
       "      <td>5</td>\n",
       "      <td>389.07</td>\n",
       "      <td>77.814000</td>\n",
       "      <td>7.781400</td>\n",
       "    </tr>\n",
       "    <tr>\n",
       "      <th>4</th>\n",
       "      <td>Germany</td>\n",
       "      <td>4</td>\n",
       "      <td>334.62</td>\n",
       "      <td>83.655000</td>\n",
       "      <td>8.161463</td>\n",
       "    </tr>\n",
       "    <tr>\n",
       "      <th>5</th>\n",
       "      <td>Czech Republic</td>\n",
       "      <td>2</td>\n",
       "      <td>273.24</td>\n",
       "      <td>136.620000</td>\n",
       "      <td>9.108000</td>\n",
       "    </tr>\n",
       "    <tr>\n",
       "      <th>6</th>\n",
       "      <td>United Kingdom</td>\n",
       "      <td>3</td>\n",
       "      <td>245.52</td>\n",
       "      <td>81.840000</td>\n",
       "      <td>8.768571</td>\n",
       "    </tr>\n",
       "    <tr>\n",
       "      <th>7</th>\n",
       "      <td>Portugal</td>\n",
       "      <td>2</td>\n",
       "      <td>185.13</td>\n",
       "      <td>92.565000</td>\n",
       "      <td>6.383793</td>\n",
       "    </tr>\n",
       "    <tr>\n",
       "      <th>8</th>\n",
       "      <td>India</td>\n",
       "      <td>2</td>\n",
       "      <td>183.15</td>\n",
       "      <td>91.575000</td>\n",
       "      <td>8.721429</td>\n",
       "    </tr>\n",
       "    <tr>\n",
       "      <th>9</th>\n",
       "      <td>Others</td>\n",
       "      <td>15</td>\n",
       "      <td>1094.94</td>\n",
       "      <td>72.996000</td>\n",
       "      <td>7.448571</td>\n",
       "    </tr>\n",
       "  </tbody>\n",
       "</table>\n",
       "</div>"
      ],
      "text/plain": [
       "          country  total_customers  total_sales  avg_sales_per_customer  \\\n",
       "0             USA               13      1040.49               80.037692   \n",
       "1          Canada                8       535.59               66.948750   \n",
       "2          Brazil                5       427.68               85.536000   \n",
       "3          France                5       389.07               77.814000   \n",
       "4         Germany                4       334.62               83.655000   \n",
       "5  Czech Republic                2       273.24              136.620000   \n",
       "6  United Kingdom                3       245.52               81.840000   \n",
       "7        Portugal                2       185.13               92.565000   \n",
       "8           India                2       183.15               91.575000   \n",
       "9          Others               15      1094.94               72.996000   \n",
       "\n",
       "   avg_order_value  \n",
       "0         7.942672  \n",
       "1         7.047237  \n",
       "2         7.011148  \n",
       "3         7.781400  \n",
       "4         8.161463  \n",
       "5         9.108000  \n",
       "6         8.768571  \n",
       "7         6.383793  \n",
       "8         8.721429  \n",
       "9         7.448571  "
      ]
     },
     "execution_count": 7,
     "metadata": {},
     "output_type": "execute_result"
    }
   ],
   "source": [
    "q = '''WITH \n",
    "         country_count AS\n",
    "                     (\n",
    "                     SELECT \n",
    "                         country, \n",
    "                         COUNT(customer_id) 'total_customers'\n",
    "                    FROM customer \n",
    "                    GROUP BY 1\n",
    "                    ),\n",
    "        new_customer_table AS\n",
    "                    (\n",
    "                    SELECT c.*,\n",
    "                           CASE\n",
    "                               WHEN cc.total_customers = 1 THEN 'Others'\n",
    "                               ELSE cc.country\n",
    "                               END AS updated_country\n",
    "                    FROM customer c\n",
    "                    LEFT JOIN country_count cc ON cc.country = c.country\n",
    "                    ),\n",
    "        customer_sales_table AS\n",
    "                    (\n",
    "                    SELECT \n",
    "                        nct.updated_country country, \n",
    "                        COUNT(DISTINCT(nct.customer_id)) total_customers,\n",
    "                        SUM(i.total) 'total_sales',\n",
    "                        SUM(i.total)/COUNT(DISTINCT(nct.customer_id)) avg_sales_per_customer,\n",
    "                        SUM(i.total)/COUNT(i.invoice_id) avg_order_value,\n",
    "                        COUNT(i.invoice_id)\n",
    "                    FROM new_customer_table nct\n",
    "                    LEFT JOIN invoice i ON i.customer_id = nct.customer_id\n",
    "                    GROUP BY 1\n",
    "                    )\n",
    "                    \n",
    "        SELECT \n",
    "            country,\n",
    "            total_customers,\n",
    "            total_sales,\n",
    "            avg_sales_per_customer,\n",
    "            avg_order_value\n",
    "        FROM \n",
    "            (\n",
    "            SELECT \n",
    "                cst.*,\n",
    "                CASE\n",
    "                    WHEN cst.country = 'Others' THEN 1\n",
    "                    ELSE 0\n",
    "                    END AS sort\n",
    "            FROM customer_sales_table cst\n",
    "            )\n",
    "        ORDER BY sort, total_sales DESC\n",
    "        '''\n",
    "run_query(q)"
   ]
  },
  {
   "cell_type": "markdown",
   "metadata": {},
   "source": [
    "## Visualizing Sales by Country"
   ]
  },
  {
   "cell_type": "code",
   "execution_count": 8,
   "metadata": {
    "scrolled": true
   },
   "outputs": [
    {
     "data": {
      "image/png": "[encoded data removed]",
      "text/plain": [
       "<Figure size 864x864 with 4 Axes>"
      ]
     },
     "metadata": {
      "needs_background": "light"
     },
     "output_type": "display_data"
    }
   ],
   "source": [
    "sales_country = run_query(q)\n",
    "sales_country.set_index('country', inplace=True, drop=True)\n",
    "fig, ((ax1, ax2), (ax3, ax4)) = plt.subplots(2,2, figsize = (12,12))\n",
    "fig.subplots_adjust(hspace=.5, wspace=.3)\n",
    "\n",
    "sales_country['total_sales'].plot.pie(ax=ax1)\n",
    "ax1.set_title('Sales Breakdown By Country')\n",
    "ax1.set_ylabel('')\n",
    "\n",
    "sales_country['pct_customers'] = (sales_country['total_customers']/sales_country['total_customers'].sum())*100\n",
    "sales_country['pct_sales'] = (sales_country['total_sales']/sales_country['total_sales'].sum())*100\n",
    "\n",
    "cols = ['pct_customers', 'pct_sales']\n",
    "sales_country[cols].plot.bar(ax=ax2)\n",
    "ax2.set_title('Percent Sales vs Customers for different Countries')\n",
    "ax2.set_xlabel('')\n",
    "ax2.spines[\"top\"].set_visible(False)\n",
    "ax2.spines[\"right\"].set_visible(False)\n",
    "\n",
    "sales_country['avg_sales_per_customer'].plot.bar(ax=ax3, cmap='Pastel2')\n",
    "ax3.set_title('Average value of sales per customer by country')\n",
    "ax3.set_xlabel('')\n",
    "ax3.spines[\"top\"].set_visible(False)\n",
    "ax3.spines[\"right\"].set_visible(False)\n",
    "\n",
    "sales_country['avg_order_from_mean'] = sales_country['avg_order_value'] - sales_country['avg_order_value'].mean()\n",
    "sales_country['avg_order_from_mean'].plot.bar(ax=ax4, cmap='Pastel2')\n",
    "ax4.set_title('Average Order Value \\n difference from mean')\n",
    "ax4.set_xlabel('')\n",
    "ax4.tick_params(bottom=\"off\")\n",
    "ax4.axhline(0, color='k')\n",
    "ax4.spines[\"top\"].set_visible(False)\n",
    "ax4.spines[\"right\"].set_visible(False)\n",
    "ax4.spines['bottom'].set_visible(False)"
   ]
  },
  {
   "cell_type": "markdown",
   "metadata": {
    "collapsed": true
   },
   "source": [
    "Based on the data, Czech Republic, India and United Kingdom have the highest potential for growth (less customers but high average orders).It is important to know that the sample size in this case is not big enough to be absolutely sure of the trendlines. A better way to go about it would be to spend a little money in these regions for marketing, collect more data and check to see if the trend is followed by the new customers."
   ]
  },
  {
   "cell_type": "markdown",
   "metadata": {},
   "source": [
    "## Album vs Individual Tracks\n",
    "Our next goal is to write a query that categorizes each invoice as either an album purchase or not, and calculates - number of invoices and percentage of invoices"
   ]
  },
  {
   "cell_type": "code",
   "execution_count": 18,
   "metadata": {},
   "outputs": [
    {
     "data": {
      "text/html": [
       "<div>\n",
       "<style scoped>\n",
       "    .dataframe tbody tr th:only-of-type {\n",
       "        vertical-align: middle;\n",
       "    }\n",
       "\n",
       "    .dataframe tbody tr th {\n",
       "        vertical-align: top;\n",
       "    }\n",
       "\n",
       "    .dataframe thead th {\n",
       "        text-align: right;\n",
       "    }\n",
       "</style>\n",
       "<table border=\"1\" class=\"dataframe\">\n",
       "  <thead>\n",
       "    <tr style=\"text-align: right;\">\n",
       "      <th></th>\n",
       "      <th>album_purchase</th>\n",
       "      <th>total</th>\n",
       "      <th>percent</th>\n",
       "    </tr>\n",
       "  </thead>\n",
       "  <tbody>\n",
       "    <tr>\n",
       "      <th>0</th>\n",
       "      <td>no</td>\n",
       "      <td>500</td>\n",
       "      <td>0.814332</td>\n",
       "    </tr>\n",
       "    <tr>\n",
       "      <th>1</th>\n",
       "      <td>yes</td>\n",
       "      <td>114</td>\n",
       "      <td>0.185668</td>\n",
       "    </tr>\n",
       "  </tbody>\n",
       "</table>\n",
       "</div>"
      ],
      "text/plain": [
       "  album_purchase  total   percent\n",
       "0             no    500  0.814332\n",
       "1            yes    114  0.185668"
      ]
     },
     "metadata": {},
     "output_type": "display_data"
    }
   ],
   "source": [
    "invoice_line = '''WITH \n",
    "                      invoice_track AS\n",
    "                            (\n",
    "                            SELECT invoice_id, \n",
    "                                   COUNT(track_id) total_tracks_bought, \n",
    "                                   MIN(track_id) min_track_id \n",
    "                            FROM invoice_line\n",
    "                            GROUP BY 1\n",
    "                            ),\n",
    "                     invoices AS\n",
    "                            (\n",
    "                            SELECT il.invoice_id,\n",
    "                                   il.track_id,\n",
    "                                   it.total_tracks_bought,\n",
    "                                   it.min_track_id\n",
    "                            FROM invoice_line il\n",
    "                            LEFT JOIN invoice_track it ON it.invoice_id = il.invoice_id\n",
    "                            ),\n",
    "                    track_album_count AS\n",
    "                            (\n",
    "                            SELECT \n",
    "                                COUNT(track_id) total_tracks, \n",
    "                                MIN(track_id) min_track_id, \n",
    "                                name, \n",
    "                                album_id \n",
    "                            FROM track \n",
    "                            GROUP BY 4\n",
    "                            ),\n",
    "                    new_track AS\n",
    "                            (\n",
    "                            SELECT\n",
    "                                t.track_id,\n",
    "                                tac.*\n",
    "                            FROM track t\n",
    "                            LEFT JOIN track_album_count tac ON tac.album_id = t.album_id \n",
    "                            )\n",
    "              \n",
    "              SELECT\n",
    "                  album_purchase,\n",
    "                  COUNT(invoice_id) total,\n",
    "                  CAST(COUNT(invoice_id) AS Float)/(SELECT COUNT(invoice_id) FROM invoice_track) percent\n",
    "              FROM\n",
    "              (\n",
    "              SELECT it.*,\n",
    "                  CASE\n",
    "                    WHEN\n",
    "                        (\n",
    "                        SELECT i.track_id FROM invoices i\n",
    "                        WHERE i.invoice_id = it.invoice_id\n",
    "    \n",
    "                        EXCEPT\n",
    "                        \n",
    "                        SELECT nt.track_id from new_track nt\n",
    "                        WHERE nt.album_id = (\n",
    "                                            SELECT nt.album_id FROM new_track nt\n",
    "                                            WHERE nt.min_track_id = it.min_track_id\n",
    "                                            )\n",
    "                        )\n",
    "                        IS NULL\n",
    "                      AND\n",
    "                        (\n",
    "                        SELECT nt2.track_id from new_track nt2\n",
    "                        WHERE nt2.album_id = (\n",
    "                                              SELECT nt.album_id FROM new_track nt\n",
    "                                              WHERE nt.min_track_id = it.min_track_id\n",
    "                                              )\n",
    "                        \n",
    "                       EXCEPT\n",
    "        \n",
    "                          SELECT i.track_id FROM invoices i\n",
    "                          WHERE i.invoice_id = it.invoice_id\n",
    "                       )\n",
    "                       IS NULL\n",
    "                  THEN \"yes\"\n",
    "                  ELSE \"no\"\n",
    "             END AS \"album_purchase\"\n",
    "             FROM invoice_track it\n",
    "            )\n",
    "            GROUP BY album_purchase  \n",
    "           '''\n",
    "\n",
    "display(run_query(invoice_line))"
   ]
  },
  {
   "cell_type": "markdown",
   "metadata": {
    "collapsed": true
   },
   "source": [
    "Over 81% of the purchases are non-album purchases. However, it is still recommended to buy full albums from record stores or we might end up losing 19% of the revenue."
   ]
  },
  {
   "cell_type": "code",
   "execution_count": null,
   "metadata": {},
   "outputs": [],
   "source": []
  }
 ],
 "metadata": {
  "kernelspec": {
   "display_name": "Python 3",
   "language": "python",
   "name": "python3"
  },
  "language_info": {
   "codemirror_mode": {
    "name": "ipython",
    "version": 3
   },
   "file_extension": ".py",
   "mimetype": "text/x-python",
   "name": "python",
   "nbconvert_exporter": "python",
   "pygments_lexer": "ipython3",
   "version": "3.6.9"
  }
 },
 "nbformat": 4,
 "nbformat_minor": 2
}
